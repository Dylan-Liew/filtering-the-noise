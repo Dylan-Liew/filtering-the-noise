{
 "cells": [
  {
   "cell_type": "code",
   "id": "initial_id",
   "metadata": {
    "collapsed": true,
    "ExecuteTime": {
     "end_time": "2025-08-30T13:35:57.075702Z",
     "start_time": "2025-08-30T13:35:01.499905Z"
    }
   },
   "source": [
    "import json\n",
    "import pandas as pd\n",
    "import gzip\n",
    "import uuid\n",
    "\n",
    "metadata = \"data/meta.json.gz\"\n",
    "reviews = \"data/review.json.gz\"\n",
    "\n",
    "\n",
    "def load_data(file_path):\n",
    "    datas = []\n",
    "    with gzip.open(file_path, 'rt', encoding='utf-8') as f:\n",
    "        for line_num, line in enumerate(f):\n",
    "            try:\n",
    "                data = json.loads(line.strip())\n",
    "                data['uuid'] = uuid.uuid4()\n",
    "                datas.append(data)\n",
    "            except json.JSONDecodeError as e:\n",
    "                continue\n",
    "\n",
    "    df = pd.DataFrame(datas)\n",
    "    return df\n",
    "\n",
    "reviews_df = load_data(reviews)\n",
    "metadata_df = load_data(metadata)\n",
    "\n",
    "metadata_df.head()\n",
    "metadata_df.info()\n",
    "\n",
    "reviews_df.head()\n",
    "reviews_df.info()"
   ],
   "outputs": [
    {
     "ename": "KeyboardInterrupt",
     "evalue": "",
     "output_type": "error",
     "traceback": [
      "\u001B[31m---------------------------------------------------------------------------\u001B[39m",
      "\u001B[31mKeyboardInterrupt\u001B[39m                         Traceback (most recent call last)",
      "\u001B[36mCell\u001B[39m\u001B[36m \u001B[39m\u001B[32mIn[71]\u001B[39m\u001B[32m, line 24\u001B[39m\n\u001B[32m     21\u001B[39m     df = pd.DataFrame(datas)\n\u001B[32m     22\u001B[39m     \u001B[38;5;28;01mreturn\u001B[39;00m df\n\u001B[32m---> \u001B[39m\u001B[32m24\u001B[39m reviews_df = \u001B[43mload_data\u001B[49m\u001B[43m(\u001B[49m\u001B[43mreviews\u001B[49m\u001B[43m)\u001B[49m\n\u001B[32m     25\u001B[39m metadata_df = load_data(metadata)\n\u001B[32m     27\u001B[39m metadata_df.head()\n",
      "\u001B[36mCell\u001B[39m\u001B[36m \u001B[39m\u001B[32mIn[71]\u001B[39m\u001B[32m, line 13\u001B[39m, in \u001B[36mload_data\u001B[39m\u001B[34m(file_path)\u001B[39m\n\u001B[32m     11\u001B[39m datas = []\n\u001B[32m     12\u001B[39m \u001B[38;5;28;01mwith\u001B[39;00m gzip.open(file_path, \u001B[33m'\u001B[39m\u001B[33mrt\u001B[39m\u001B[33m'\u001B[39m, encoding=\u001B[33m'\u001B[39m\u001B[33mutf-8\u001B[39m\u001B[33m'\u001B[39m) \u001B[38;5;28;01mas\u001B[39;00m f:\n\u001B[32m---> \u001B[39m\u001B[32m13\u001B[39m \u001B[43m    \u001B[49m\u001B[38;5;28;43;01mfor\u001B[39;49;00m\u001B[43m \u001B[49m\u001B[43mline_num\u001B[49m\u001B[43m,\u001B[49m\u001B[43m \u001B[49m\u001B[43mline\u001B[49m\u001B[43m \u001B[49m\u001B[38;5;129;43;01min\u001B[39;49;00m\u001B[43m \u001B[49m\u001B[38;5;28;43menumerate\u001B[39;49m\u001B[43m(\u001B[49m\u001B[43mf\u001B[49m\u001B[43m)\u001B[49m\u001B[43m:\u001B[49m\n\u001B[32m     14\u001B[39m \u001B[43m        \u001B[49m\u001B[38;5;28;43;01mtry\u001B[39;49;00m\u001B[43m:\u001B[49m\n\u001B[32m     15\u001B[39m \u001B[43m            \u001B[49m\u001B[43mdata\u001B[49m\u001B[43m \u001B[49m\u001B[43m=\u001B[49m\u001B[43m \u001B[49m\u001B[43mjson\u001B[49m\u001B[43m.\u001B[49m\u001B[43mloads\u001B[49m\u001B[43m(\u001B[49m\u001B[43mline\u001B[49m\u001B[43m.\u001B[49m\u001B[43mstrip\u001B[49m\u001B[43m(\u001B[49m\u001B[43m)\u001B[49m\u001B[43m)\u001B[49m\n",
      "\u001B[36mFile \u001B[39m\u001B[32m~\\AppData\\Local\\Programs\\Python\\Python311\\Lib\\gzip.py:314\u001B[39m, in \u001B[36mGzipFile.read1\u001B[39m\u001B[34m(self, size)\u001B[39m\n\u001B[32m    312\u001B[39m \u001B[38;5;28;01mif\u001B[39;00m size < \u001B[32m0\u001B[39m:\n\u001B[32m    313\u001B[39m     size = io.DEFAULT_BUFFER_SIZE\n\u001B[32m--> \u001B[39m\u001B[32m314\u001B[39m \u001B[38;5;28;01mreturn\u001B[39;00m \u001B[38;5;28mself\u001B[39m._buffer.read1(size)\n",
      "\u001B[36mFile \u001B[39m\u001B[32m~\\AppData\\Local\\Programs\\Python\\Python311\\Lib\\_compression.py:68\u001B[39m, in \u001B[36mDecompressReader.readinto\u001B[39m\u001B[34m(self, b)\u001B[39m\n\u001B[32m     66\u001B[39m \u001B[38;5;28;01mdef\u001B[39;00m\u001B[38;5;250m \u001B[39m\u001B[34mreadinto\u001B[39m(\u001B[38;5;28mself\u001B[39m, b):\n\u001B[32m     67\u001B[39m     \u001B[38;5;28;01mwith\u001B[39;00m \u001B[38;5;28mmemoryview\u001B[39m(b) \u001B[38;5;28;01mas\u001B[39;00m view, view.cast(\u001B[33m\"\u001B[39m\u001B[33mB\u001B[39m\u001B[33m\"\u001B[39m) \u001B[38;5;28;01mas\u001B[39;00m byte_view:\n\u001B[32m---> \u001B[39m\u001B[32m68\u001B[39m         data = \u001B[38;5;28;43mself\u001B[39;49m\u001B[43m.\u001B[49m\u001B[43mread\u001B[49m\u001B[43m(\u001B[49m\u001B[38;5;28;43mlen\u001B[39;49m\u001B[43m(\u001B[49m\u001B[43mbyte_view\u001B[49m\u001B[43m)\u001B[49m\u001B[43m)\u001B[49m\n\u001B[32m     69\u001B[39m         byte_view[:\u001B[38;5;28mlen\u001B[39m(data)] = data\n\u001B[32m     70\u001B[39m     \u001B[38;5;28;01mreturn\u001B[39;00m \u001B[38;5;28mlen\u001B[39m(data)\n",
      "\u001B[36mFile \u001B[39m\u001B[32m~\\AppData\\Local\\Programs\\Python\\Python311\\Lib\\gzip.py:507\u001B[39m, in \u001B[36m_GzipReader.read\u001B[39m\u001B[34m(self, size)\u001B[39m\n\u001B[32m    504\u001B[39m \u001B[38;5;66;03m# Read a chunk of data from the file\u001B[39;00m\n\u001B[32m    505\u001B[39m buf = \u001B[38;5;28mself\u001B[39m._fp.read(io.DEFAULT_BUFFER_SIZE)\n\u001B[32m--> \u001B[39m\u001B[32m507\u001B[39m uncompress = \u001B[38;5;28;43mself\u001B[39;49m\u001B[43m.\u001B[49m\u001B[43m_decompressor\u001B[49m\u001B[43m.\u001B[49m\u001B[43mdecompress\u001B[49m\u001B[43m(\u001B[49m\u001B[43mbuf\u001B[49m\u001B[43m,\u001B[49m\u001B[43m \u001B[49m\u001B[43msize\u001B[49m\u001B[43m)\u001B[49m\n\u001B[32m    508\u001B[39m \u001B[38;5;28;01mif\u001B[39;00m \u001B[38;5;28mself\u001B[39m._decompressor.unconsumed_tail != \u001B[33mb\u001B[39m\u001B[33m\"\u001B[39m\u001B[33m\"\u001B[39m:\n\u001B[32m    509\u001B[39m     \u001B[38;5;28mself\u001B[39m._fp.prepend(\u001B[38;5;28mself\u001B[39m._decompressor.unconsumed_tail)\n",
      "\u001B[31mKeyboardInterrupt\u001B[39m: "
     ]
    }
   ],
   "execution_count": 71
  },
  {
   "metadata": {
    "ExecuteTime": {
     "end_time": "2025-08-30T13:35:57.078047800Z",
     "start_time": "2025-08-30T09:31:38.968256Z"
    }
   },
   "cell_type": "code",
   "source": [
    "reviews_df = reviews_df.sample(n=1_000_000, random_state=17398)\n",
    "reviews_df.info()"
   ],
   "id": "3e6d21d8abd155f1",
   "outputs": [
    {
     "name": "stdout",
     "output_type": "stream",
     "text": [
      "<class 'pandas.core.frame.DataFrame'>\n",
      "Index: 1000000 entries, 229523 to 1564777\n",
      "Data columns (total 9 columns):\n",
      " #   Column   Non-Null Count    Dtype  \n",
      "---  ------   --------------    -----  \n",
      " 0   user_id  992759 non-null   object \n",
      " 1   name     1000000 non-null  object \n",
      " 2   time     1000000 non-null  int64  \n",
      " 3   rating   992759 non-null   float64\n",
      " 4   text     555929 non-null   object \n",
      " 5   pics     18864 non-null    object \n",
      " 6   resp     139051 non-null   object \n",
      " 7   gmap_id  1000000 non-null  object \n",
      " 8   uuid     1000000 non-null  object \n",
      "dtypes: float64(1), int64(1), object(7)\n",
      "memory usage: 76.3+ MB\n"
     ]
    }
   ],
   "execution_count": 42
  },
  {
   "metadata": {
    "ExecuteTime": {
     "end_time": "2025-08-30T13:35:57.079046700Z",
     "start_time": "2025-08-30T09:31:41.755614Z"
    }
   },
   "cell_type": "code",
   "source": [
    "# Drop duplicated google map reviews, keep first occurrence\n",
    "duplicate_count = metadata_df.duplicated(subset=['gmap_id']).sum()\n",
    "print(f\"Found {duplicate_count} duplicate entries based on gmap_id.\")\n",
    "metadata_df.drop_duplicates(subset=['gmap_id'], keep='first', inplace=True)"
   ],
   "id": "d560fe6a60c18c6f",
   "outputs": [
    {
     "name": "stdout",
     "output_type": "stream",
     "text": [
      "Found 367 duplicate entries based on gmap_id.\n"
     ]
    }
   ],
   "execution_count": 43
  },
  {
   "metadata": {
    "ExecuteTime": {
     "end_time": "2025-08-30T13:35:57.079046700Z",
     "start_time": "2025-08-30T09:31:41.798919Z"
    }
   },
   "cell_type": "code",
   "source": "metadata_df.info()",
   "id": "cce6f73dc21233ab",
   "outputs": [
    {
     "name": "stdout",
     "output_type": "stream",
     "text": [
      "<class 'pandas.core.frame.DataFrame'>\n",
      "Index: 74600 entries, 0 to 74966\n",
      "Data columns (total 16 columns):\n",
      " #   Column            Non-Null Count  Dtype  \n",
      "---  ------            --------------  -----  \n",
      " 0   name              74600 non-null  object \n",
      " 1   address           73565 non-null  object \n",
      " 2   gmap_id           74600 non-null  object \n",
      " 3   description       12207 non-null  object \n",
      " 4   latitude          74600 non-null  float64\n",
      " 5   longitude         74600 non-null  float64\n",
      " 6   category          74273 non-null  object \n",
      " 7   avg_rating        74600 non-null  float64\n",
      " 8   num_of_reviews    74600 non-null  int64  \n",
      " 9   price             13603 non-null  object \n",
      " 10  hours             55911 non-null  object \n",
      " 11  MISC              61249 non-null  object \n",
      " 12  state             51510 non-null  object \n",
      " 13  relative_results  68431 non-null  object \n",
      " 14  url               74600 non-null  object \n",
      " 15  uuid              74600 non-null  object \n",
      "dtypes: float64(3), int64(1), object(12)\n",
      "memory usage: 9.7+ MB\n"
     ]
    }
   ],
   "execution_count": 44
  },
  {
   "metadata": {
    "ExecuteTime": {
     "end_time": "2025-08-30T13:35:57.079046700Z",
     "start_time": "2025-08-30T09:31:41.871600Z"
    }
   },
   "cell_type": "code",
   "source": [
    "# Drop useless columns\n",
    "\n",
    "columns_to_drop = [\n",
    "    'relative_results', 'url', 'MISC', 'state', 'price',\n",
    "    'address', 'hours', 'num_of_reviews', 'avg_rating'\n",
    "]\n",
    "metadata_df.drop(columns=columns_to_drop, axis=1, inplace=True)"
   ],
   "id": "b8aa58c0cef936b3",
   "outputs": [],
   "execution_count": 45
  },
  {
   "metadata": {
    "ExecuteTime": {
     "end_time": "2025-08-30T09:31:42.038620Z",
     "start_time": "2025-08-30T09:31:42.005439Z"
    }
   },
   "cell_type": "code",
   "source": "metadata_df.info()",
   "id": "7ae9136a7e26c62f",
   "outputs": [
    {
     "name": "stdout",
     "output_type": "stream",
     "text": [
      "<class 'pandas.core.frame.DataFrame'>\n",
      "Index: 74600 entries, 0 to 74966\n",
      "Data columns (total 7 columns):\n",
      " #   Column       Non-Null Count  Dtype  \n",
      "---  ------       --------------  -----  \n",
      " 0   name         74600 non-null  object \n",
      " 1   gmap_id      74600 non-null  object \n",
      " 2   description  12207 non-null  object \n",
      " 3   latitude     74600 non-null  float64\n",
      " 4   longitude    74600 non-null  float64\n",
      " 5   category     74273 non-null  object \n",
      " 6   uuid         74600 non-null  object \n",
      "dtypes: float64(2), object(5)\n",
      "memory usage: 4.6+ MB\n"
     ]
    }
   ],
   "execution_count": 46
  },
  {
   "metadata": {
    "ExecuteTime": {
     "end_time": "2025-08-30T09:31:42.932026Z",
     "start_time": "2025-08-30T09:31:42.042624Z"
    }
   },
   "cell_type": "code",
   "source": [
    "import reverse_geocoder as rg\n",
    "\n",
    "coords = list(zip(metadata_df['latitude'], metadata_df['longitude']))\n",
    "\n",
    "location_info = rg.search(coords)\n",
    "\n",
    "states = [loc.get('admin1') for loc in location_info]\n",
    "countries = [loc.get('cc') for loc in location_info]\n",
    "\n",
    "metadata_df['state'] = states\n",
    "metadata_df['country_code'] = countries\n",
    "\n",
    "metadata_df[['name', 'latitude', 'longitude', 'state', 'country_code']].head()"
   ],
   "id": "241ba9ed613a008d",
   "outputs": [
    {
     "data": {
      "text/plain": [
       "                         name   latitude  longitude    state country_code\n",
       "0               Purple Peanut  34.713163 -86.574041  Alabama           US\n",
       "1      Posh Mommy & Baby Too!  34.753758 -86.739241  Alabama           US\n",
       "2  Soccer Shots North Alabama  34.651859 -86.765534  Alabama           US\n",
       "3          Perdido Pass Jetty  30.273880 -87.559433  Alabama           US\n",
       "4      Tri-Rx Pharmaceuticals  34.791450 -86.532249  Alabama           US"
      ],
      "text/html": [
       "<div>\n",
       "<style scoped>\n",
       "    .dataframe tbody tr th:only-of-type {\n",
       "        vertical-align: middle;\n",
       "    }\n",
       "\n",
       "    .dataframe tbody tr th {\n",
       "        vertical-align: top;\n",
       "    }\n",
       "\n",
       "    .dataframe thead th {\n",
       "        text-align: right;\n",
       "    }\n",
       "</style>\n",
       "<table border=\"1\" class=\"dataframe\">\n",
       "  <thead>\n",
       "    <tr style=\"text-align: right;\">\n",
       "      <th></th>\n",
       "      <th>name</th>\n",
       "      <th>latitude</th>\n",
       "      <th>longitude</th>\n",
       "      <th>state</th>\n",
       "      <th>country_code</th>\n",
       "    </tr>\n",
       "  </thead>\n",
       "  <tbody>\n",
       "    <tr>\n",
       "      <th>0</th>\n",
       "      <td>Purple Peanut</td>\n",
       "      <td>34.713163</td>\n",
       "      <td>-86.574041</td>\n",
       "      <td>Alabama</td>\n",
       "      <td>US</td>\n",
       "    </tr>\n",
       "    <tr>\n",
       "      <th>1</th>\n",
       "      <td>Posh Mommy &amp; Baby Too!</td>\n",
       "      <td>34.753758</td>\n",
       "      <td>-86.739241</td>\n",
       "      <td>Alabama</td>\n",
       "      <td>US</td>\n",
       "    </tr>\n",
       "    <tr>\n",
       "      <th>2</th>\n",
       "      <td>Soccer Shots North Alabama</td>\n",
       "      <td>34.651859</td>\n",
       "      <td>-86.765534</td>\n",
       "      <td>Alabama</td>\n",
       "      <td>US</td>\n",
       "    </tr>\n",
       "    <tr>\n",
       "      <th>3</th>\n",
       "      <td>Perdido Pass Jetty</td>\n",
       "      <td>30.273880</td>\n",
       "      <td>-87.559433</td>\n",
       "      <td>Alabama</td>\n",
       "      <td>US</td>\n",
       "    </tr>\n",
       "    <tr>\n",
       "      <th>4</th>\n",
       "      <td>Tri-Rx Pharmaceuticals</td>\n",
       "      <td>34.791450</td>\n",
       "      <td>-86.532249</td>\n",
       "      <td>Alabama</td>\n",
       "      <td>US</td>\n",
       "    </tr>\n",
       "  </tbody>\n",
       "</table>\n",
       "</div>"
      ]
     },
     "execution_count": 47,
     "metadata": {},
     "output_type": "execute_result"
    }
   ],
   "execution_count": 47
  },
  {
   "metadata": {
    "ExecuteTime": {
     "end_time": "2025-08-30T09:31:43.023832Z",
     "start_time": "2025-08-30T09:31:43.016823Z"
    }
   },
   "cell_type": "code",
   "source": "metadata_df[[\"category\"]].head()",
   "id": "dcb7d88f74c83b91",
   "outputs": [
    {
     "data": {
      "text/plain": [
       "                                   category\n",
       "0                                [Boutique]\n",
       "1  [Baby store, Children's furniture store]\n",
       "2      [Soccer club, Service establishment]\n",
       "3                            [Fishing pier]\n",
       "4                        [Corporate office]"
      ],
      "text/html": [
       "<div>\n",
       "<style scoped>\n",
       "    .dataframe tbody tr th:only-of-type {\n",
       "        vertical-align: middle;\n",
       "    }\n",
       "\n",
       "    .dataframe tbody tr th {\n",
       "        vertical-align: top;\n",
       "    }\n",
       "\n",
       "    .dataframe thead th {\n",
       "        text-align: right;\n",
       "    }\n",
       "</style>\n",
       "<table border=\"1\" class=\"dataframe\">\n",
       "  <thead>\n",
       "    <tr style=\"text-align: right;\">\n",
       "      <th></th>\n",
       "      <th>category</th>\n",
       "    </tr>\n",
       "  </thead>\n",
       "  <tbody>\n",
       "    <tr>\n",
       "      <th>0</th>\n",
       "      <td>[Boutique]</td>\n",
       "    </tr>\n",
       "    <tr>\n",
       "      <th>1</th>\n",
       "      <td>[Baby store, Children's furniture store]</td>\n",
       "    </tr>\n",
       "    <tr>\n",
       "      <th>2</th>\n",
       "      <td>[Soccer club, Service establishment]</td>\n",
       "    </tr>\n",
       "    <tr>\n",
       "      <th>3</th>\n",
       "      <td>[Fishing pier]</td>\n",
       "    </tr>\n",
       "    <tr>\n",
       "      <th>4</th>\n",
       "      <td>[Corporate office]</td>\n",
       "    </tr>\n",
       "  </tbody>\n",
       "</table>\n",
       "</div>"
      ]
     },
     "execution_count": 48,
     "metadata": {},
     "output_type": "execute_result"
    }
   ],
   "execution_count": 48
  },
  {
   "metadata": {
    "ExecuteTime": {
     "end_time": "2025-08-30T09:31:43.069348Z",
     "start_time": "2025-08-30T09:31:43.052071Z"
    }
   },
   "cell_type": "code",
   "source": [
    "# Filter for rows where 'category' is a list with zero items\n",
    "empty_category_df = metadata_df[metadata_df['category'].apply(lambda x: isinstance(x, list) and len(x) == 0)]\n",
    "\n",
    "print(empty_category_df.head())"
   ],
   "id": "497eefc1d92a83d2",
   "outputs": [
    {
     "name": "stdout",
     "output_type": "stream",
     "text": [
      "Empty DataFrame\n",
      "Columns: [name, gmap_id, description, latitude, longitude, category, uuid, state, country_code]\n",
      "Index: []\n"
     ]
    }
   ],
   "execution_count": 49
  },
  {
   "metadata": {
    "ExecuteTime": {
     "end_time": "2025-08-30T09:31:44.034317Z",
     "start_time": "2025-08-30T09:31:43.097220Z"
    }
   },
   "cell_type": "code",
   "source": [
    "# reviews_df drop useless columns, and rename\n",
    "\n",
    "columns_to_rename = {\n",
    "    'name': 'reviewer_name',\n",
    "    'text': 'review',\n",
    "    'time': 'review_time'\n",
    "}\n",
    "\n",
    "reviews_df.drop(columns=['resp'], inplace=True)\n",
    "\n",
    "reviews_df.rename(columns=columns_to_rename, inplace=True)\n",
    "\n",
    "reviews_df.info()"
   ],
   "id": "bc75c933c456896c",
   "outputs": [
    {
     "name": "stdout",
     "output_type": "stream",
     "text": [
      "<class 'pandas.core.frame.DataFrame'>\n",
      "Index: 1000000 entries, 229523 to 1564777\n",
      "Data columns (total 8 columns):\n",
      " #   Column         Non-Null Count    Dtype  \n",
      "---  ------         --------------    -----  \n",
      " 0   user_id        992759 non-null   object \n",
      " 1   reviewer_name  1000000 non-null  object \n",
      " 2   review_time    1000000 non-null  int64  \n",
      " 3   rating         992759 non-null   float64\n",
      " 4   review         555929 non-null   object \n",
      " 5   pics           18864 non-null    object \n",
      " 6   gmap_id        1000000 non-null  object \n",
      " 7   uuid           1000000 non-null  object \n",
      "dtypes: float64(1), int64(1), object(6)\n",
      "memory usage: 68.7+ MB\n"
     ]
    }
   ],
   "execution_count": 50
  },
  {
   "metadata": {
    "ExecuteTime": {
     "end_time": "2025-08-30T09:31:44.103888Z",
     "start_time": "2025-08-30T09:31:44.067529Z"
    }
   },
   "cell_type": "code",
   "source": [
    "# Define the dictionary for renaming\n",
    "columns_to_rename = {\n",
    "    'name': 'business_name',\n",
    "    'description': 'business_description',\n",
    "    'uuid': 'business_uuid'\n",
    "}\n",
    "\n",
    "# Rename the columns in the DataFrame\n",
    "metadata_df.rename(columns=columns_to_rename, inplace=True)\n",
    "\n",
    "metadata_df.info()"
   ],
   "id": "6a49763817676988",
   "outputs": [
    {
     "name": "stdout",
     "output_type": "stream",
     "text": [
      "<class 'pandas.core.frame.DataFrame'>\n",
      "Index: 74600 entries, 0 to 74966\n",
      "Data columns (total 9 columns):\n",
      " #   Column                Non-Null Count  Dtype  \n",
      "---  ------                --------------  -----  \n",
      " 0   business_name         74600 non-null  object \n",
      " 1   gmap_id               74600 non-null  object \n",
      " 2   business_description  12207 non-null  object \n",
      " 3   latitude              74600 non-null  float64\n",
      " 4   longitude             74600 non-null  float64\n",
      " 5   category              74273 non-null  object \n",
      " 6   business_uuid         74600 non-null  object \n",
      " 7   state                 74600 non-null  object \n",
      " 8   country_code          74600 non-null  object \n",
      "dtypes: float64(2), object(7)\n",
      "memory usage: 5.7+ MB\n"
     ]
    }
   ],
   "execution_count": 51
  },
  {
   "metadata": {
    "ExecuteTime": {
     "end_time": "2025-08-30T09:31:44.132162Z",
     "start_time": "2025-08-30T09:31:44.107395Z"
    }
   },
   "cell_type": "code",
   "source": [
    "# I want see what pics have\n",
    "reviews_df['pics'].head(10)\n",
    "# Count null values to see how many reviews lack pictures\n",
    "null_pics_count = reviews_df['pics'].isnull().sum()\n",
    "total_rows = len(reviews_df)\n",
    "print(f\"Rows with null 'pics' values: {null_pics_count} ({null_pics_count/total_rows:.2%})\")\n",
    "\n",
    "# Isolate the non-empty entries and show the first one\n",
    "non_null_pics = reviews_df['pics'].dropna()\n",
    "if not non_null_pics.empty:\n",
    "    print(\"\\nExample of a non-null 'pics' entry:\")\n",
    "    print(non_null_pics.iloc[0])\n",
    "else:\n",
    "    print(\"\\nNo non-null 'pics' entries found.\")"
   ],
   "id": "a07110ad52603df4",
   "outputs": [
    {
     "name": "stdout",
     "output_type": "stream",
     "text": [
      "Rows with null 'pics' values: 981136 (98.11%)\n",
      "\n",
      "Example of a non-null 'pics' entry:\n",
      "[{'url': ['https://lh5.googleusercontent.com/p/AF1QipMzl5R-6HybpwrQtMSB5fiicMiBzNJO3aiWe1O8=w150-h150-k-no-p']}, {'url': ['https://lh5.googleusercontent.com/p/AF1QipP1HJuivCuCTDGhFdpnCI63sdiELqsxdLZxk8Qh=w150-h150-k-no-p']}, {'url': ['https://lh5.googleusercontent.com/p/AF1QipPfoyZRhgp91SoOD5oCxnreRYqji2Wa0HXZHlmo=w150-h150-k-no-p']}]\n"
     ]
    }
   ],
   "execution_count": 52
  },
  {
   "metadata": {
    "ExecuteTime": {
     "end_time": "2025-08-30T09:31:44.477116Z",
     "start_time": "2025-08-30T09:31:44.136804Z"
    }
   },
   "cell_type": "code",
   "source": [
    "def parse_image_urls(pics_data):\n",
    "    \"\"\"\n",
    "    Parses the nested list/dict structure in the 'pics' column\n",
    "    to extract a simple list of URL strings.\n",
    "    \"\"\"\n",
    "    if not isinstance(pics_data, list):\n",
    "        return []\n",
    "\n",
    "    image_urls = []\n",
    "    for item in pics_data:\n",
    "        if isinstance(item, dict) and 'url' in item:\n",
    "            if isinstance(item['url'], list):\n",
    "                image_urls.extend(item['url'])\n",
    "\n",
    "    return image_urls\n",
    "\n",
    "reviews_df['has_image'] = reviews_df['pics'].notna()\n",
    "reviews_df['images'] = reviews_df['pics'].apply(parse_image_urls)\n",
    "image_counts = reviews_df['images'].str.len()\n",
    "\n",
    "multi_pic_count = (image_counts > 1).sum()\n",
    "print(f\"Number of reviews with more than 1 picture: {multi_pic_count}\")\n",
    "reviews_df[reviews_df['has_image']][['pics', 'has_image', 'images']].head()"
   ],
   "id": "46e7d731d1884c9d",
   "outputs": [
    {
     "name": "stdout",
     "output_type": "stream",
     "text": [
      "Number of reviews with more than 1 picture: 9370\n"
     ]
    },
    {
     "data": {
      "text/plain": [
       "                                                      pics  has_image  \\\n",
       "4711042  [{'url': ['https://lh5.googleusercontent.com/p...       True   \n",
       "4887064  [{'url': ['https://lh5.googleusercontent.com/p...       True   \n",
       "1027376  [{'url': ['https://lh5.googleusercontent.com/p...       True   \n",
       "2641117  [{'url': ['https://lh5.googleusercontent.com/p...       True   \n",
       "8336092  [{'url': ['https://lh5.googleusercontent.com/p...       True   \n",
       "\n",
       "                                                    images  \n",
       "4711042  [https://lh5.googleusercontent.com/p/AF1QipMzl...  \n",
       "4887064  [https://lh5.googleusercontent.com/p/AF1QipNTW...  \n",
       "1027376  [https://lh5.googleusercontent.com/p/AF1QipMeY...  \n",
       "2641117  [https://lh5.googleusercontent.com/p/AF1QipOJp...  \n",
       "8336092  [https://lh5.googleusercontent.com/p/AF1QipNv8...  "
      ],
      "text/html": [
       "<div>\n",
       "<style scoped>\n",
       "    .dataframe tbody tr th:only-of-type {\n",
       "        vertical-align: middle;\n",
       "    }\n",
       "\n",
       "    .dataframe tbody tr th {\n",
       "        vertical-align: top;\n",
       "    }\n",
       "\n",
       "    .dataframe thead th {\n",
       "        text-align: right;\n",
       "    }\n",
       "</style>\n",
       "<table border=\"1\" class=\"dataframe\">\n",
       "  <thead>\n",
       "    <tr style=\"text-align: right;\">\n",
       "      <th></th>\n",
       "      <th>pics</th>\n",
       "      <th>has_image</th>\n",
       "      <th>images</th>\n",
       "    </tr>\n",
       "  </thead>\n",
       "  <tbody>\n",
       "    <tr>\n",
       "      <th>4711042</th>\n",
       "      <td>[{'url': ['https://lh5.googleusercontent.com/p...</td>\n",
       "      <td>True</td>\n",
       "      <td>[https://lh5.googleusercontent.com/p/AF1QipMzl...</td>\n",
       "    </tr>\n",
       "    <tr>\n",
       "      <th>4887064</th>\n",
       "      <td>[{'url': ['https://lh5.googleusercontent.com/p...</td>\n",
       "      <td>True</td>\n",
       "      <td>[https://lh5.googleusercontent.com/p/AF1QipNTW...</td>\n",
       "    </tr>\n",
       "    <tr>\n",
       "      <th>1027376</th>\n",
       "      <td>[{'url': ['https://lh5.googleusercontent.com/p...</td>\n",
       "      <td>True</td>\n",
       "      <td>[https://lh5.googleusercontent.com/p/AF1QipMeY...</td>\n",
       "    </tr>\n",
       "    <tr>\n",
       "      <th>2641117</th>\n",
       "      <td>[{'url': ['https://lh5.googleusercontent.com/p...</td>\n",
       "      <td>True</td>\n",
       "      <td>[https://lh5.googleusercontent.com/p/AF1QipOJp...</td>\n",
       "    </tr>\n",
       "    <tr>\n",
       "      <th>8336092</th>\n",
       "      <td>[{'url': ['https://lh5.googleusercontent.com/p...</td>\n",
       "      <td>True</td>\n",
       "      <td>[https://lh5.googleusercontent.com/p/AF1QipNv8...</td>\n",
       "    </tr>\n",
       "  </tbody>\n",
       "</table>\n",
       "</div>"
      ]
     },
     "execution_count": 53,
     "metadata": {},
     "output_type": "execute_result"
    }
   ],
   "execution_count": 53
  },
  {
   "metadata": {
    "ExecuteTime": {
     "end_time": "2025-08-30T09:31:45.440771Z",
     "start_time": "2025-08-30T09:31:44.505568Z"
    }
   },
   "cell_type": "code",
   "source": [
    "reviews_df.drop(columns=['pics'], inplace=True)\n",
    "reviews_df.info()"
   ],
   "id": "e37585396bc0bb4f",
   "outputs": [
    {
     "name": "stdout",
     "output_type": "stream",
     "text": [
      "<class 'pandas.core.frame.DataFrame'>\n",
      "Index: 1000000 entries, 229523 to 1564777\n",
      "Data columns (total 9 columns):\n",
      " #   Column         Non-Null Count    Dtype  \n",
      "---  ------         --------------    -----  \n",
      " 0   user_id        992759 non-null   object \n",
      " 1   reviewer_name  1000000 non-null  object \n",
      " 2   review_time    1000000 non-null  int64  \n",
      " 3   rating         992759 non-null   float64\n",
      " 4   review         555929 non-null   object \n",
      " 5   gmap_id        1000000 non-null  object \n",
      " 6   uuid           1000000 non-null  object \n",
      " 7   has_image      1000000 non-null  bool   \n",
      " 8   images         1000000 non-null  object \n",
      "dtypes: bool(1), float64(1), int64(1), object(6)\n",
      "memory usage: 69.6+ MB\n"
     ]
    }
   ],
   "execution_count": 54
  },
  {
   "metadata": {
    "ExecuteTime": {
     "end_time": "2025-08-30T09:31:45.535965Z",
     "start_time": "2025-08-30T09:31:45.501625Z"
    }
   },
   "cell_type": "code",
   "source": [
    "# Check rating null\n",
    "\n",
    "print(f\"Null values in 'rating': {reviews_df['rating'].isnull().sum()}\")\n",
    "print(\"\\nRating column stats:\")\n",
    "reviews_df['rating'].describe()"
   ],
   "id": "abc11ac89932d171",
   "outputs": [
    {
     "name": "stdout",
     "output_type": "stream",
     "text": [
      "Null values in 'rating': 7241\n",
      "\n",
      "Rating column stats:\n"
     ]
    },
    {
     "data": {
      "text/plain": [
       "count    992759.000000\n",
       "mean          4.242658\n",
       "std           1.204416\n",
       "min           1.000000\n",
       "25%           4.000000\n",
       "50%           5.000000\n",
       "75%           5.000000\n",
       "max           5.000000\n",
       "Name: rating, dtype: float64"
      ]
     },
     "execution_count": 55,
     "metadata": {},
     "output_type": "execute_result"
    }
   ],
   "execution_count": 55
  },
  {
   "metadata": {
    "ExecuteTime": {
     "end_time": "2025-08-30T09:31:45.576549Z",
     "start_time": "2025-08-30T09:31:45.567955Z"
    }
   },
   "cell_type": "code",
   "source": [
    "# just want to see what I missing out if i drop all null\n",
    "print(\"A look at the original reviews for rows with null ratings:\")\n",
    "print(reviews_df[reviews_df['rating'].isnull()][['reviewer_name', 'review']].head())"
   ],
   "id": "fd8762ce236272b0",
   "outputs": [
    {
     "name": "stdout",
     "output_type": "stream",
     "text": [
      "A look at the original reviews for rows with null ratings:\n",
      "            reviewer_name                                             review\n",
      "8330246            SandyG  The location and staff were amazing.  The hote...\n",
      "5538869         Anonymous  Not what I expected . I stay at the quality ar...\n",
      "2966547          Vernessa  I always opted for the more expensive hotel wh...\n",
      "3156088       Lovtotravel         Please see all the comments on the survey.\n",
      "3340133  Expedia reviewer  The rooms are huge. Hotel is very pet friendly...\n"
     ]
    }
   ],
   "execution_count": 56
  },
  {
   "metadata": {
    "ExecuteTime": {
     "end_time": "2025-08-30T09:31:45.620288Z",
     "start_time": "2025-08-30T09:31:45.608546Z"
    }
   },
   "cell_type": "code",
   "source": [
    "reviews_df['rating'] = reviews_df['rating'].fillna(0)\n",
    "\n",
    "\n",
    "null_count = reviews_df['rating'].isnull().sum()\n",
    "print(f\"Null values in 'rating' after filling: {null_count}\")\n",
    "\n",
    "reviews_df['rating'] = reviews_df['rating'].astype(int)\n",
    "\n",
    "print(\"\\nData types after conversion:\")\n",
    "print(reviews_df.dtypes)"
   ],
   "id": "c28ed2c41b186537",
   "outputs": [
    {
     "name": "stdout",
     "output_type": "stream",
     "text": [
      "Null values in 'rating' after filling: 0\n",
      "\n",
      "Data types after conversion:\n",
      "user_id          object\n",
      "reviewer_name    object\n",
      "review_time       int64\n",
      "rating            int64\n",
      "review           object\n",
      "gmap_id          object\n",
      "uuid             object\n",
      "has_image          bool\n",
      "images           object\n",
      "dtype: object\n"
     ]
    }
   ],
   "execution_count": 57
  },
  {
   "metadata": {
    "ExecuteTime": {
     "end_time": "2025-08-30T09:35:06.480962Z",
     "start_time": "2025-08-30T09:31:45.623801Z"
    }
   },
   "cell_type": "code",
   "source": [
    "import demoji\n",
    "import swifter\n",
    "demoji.download_codes()\n",
    "\n",
    "def clean_review_text(text):\n",
    "    # Handle non-string data (like NaN values)\n",
    "    if not isinstance(text, str):\n",
    "        return \"\"\n",
    "\n",
    "    # Replace emojis with text representation\n",
    "    text = demoji.replace_with_desc(text)\n",
    "\n",
    "    # Remove extra whitespace\n",
    "    text = \" \".join(text.split())\n",
    "\n",
    "    return text\n",
    "\n",
    "reviews_df['review_cleaned'] = reviews_df['review'].swifter.apply(clean_review_text)\n",
    "reviews_df[['review', 'review_cleaned']].head(10)"
   ],
   "id": "8290011362b438ec",
   "outputs": [
    {
     "data": {
      "text/plain": [
       "Pandas Apply:   0%|          | 0/1000000 [00:00<?, ?it/s]"
      ],
      "application/vnd.jupyter.widget-view+json": {
       "version_major": 2,
       "version_minor": 0,
       "model_id": "3d0147bfc59c4f3284f0e15fb65ece97"
      }
     },
     "metadata": {},
     "output_type": "display_data",
     "jetTransient": {
      "display_id": null
     }
    },
    {
     "data": {
      "text/plain": [
       "                                                    review  \\\n",
       "229523                                                None   \n",
       "8467473                                               None   \n",
       "7979146  YUM!!!! Definitely beat the twice-as-expensive...   \n",
       "7747805  Room was not cleaned very well. Found skittles...   \n",
       "7027868                                               None   \n",
       "7733117  (Translated by Google) The most popular steakh...   \n",
       "4813344                                               None   \n",
       "4711042                Lots of history from army aviation.   \n",
       "4393377  Associate did a great job of helping me find t...   \n",
       "3838819  Very clean and the service was friendly and po...   \n",
       "\n",
       "                                            review_cleaned  \n",
       "229523                                                      \n",
       "8467473                                                     \n",
       "7979146  YUM!!!! Definitely beat the twice-as-expensive...  \n",
       "7747805  Room was not cleaned very well. Found skittles...  \n",
       "7027868                                                     \n",
       "7733117  (Translated by Google) The most popular steakh...  \n",
       "4813344                                                     \n",
       "4711042                Lots of history from army aviation.  \n",
       "4393377  Associate did a great job of helping me find t...  \n",
       "3838819  Very clean and the service was friendly and po...  "
      ],
      "text/html": [
       "<div>\n",
       "<style scoped>\n",
       "    .dataframe tbody tr th:only-of-type {\n",
       "        vertical-align: middle;\n",
       "    }\n",
       "\n",
       "    .dataframe tbody tr th {\n",
       "        vertical-align: top;\n",
       "    }\n",
       "\n",
       "    .dataframe thead th {\n",
       "        text-align: right;\n",
       "    }\n",
       "</style>\n",
       "<table border=\"1\" class=\"dataframe\">\n",
       "  <thead>\n",
       "    <tr style=\"text-align: right;\">\n",
       "      <th></th>\n",
       "      <th>review</th>\n",
       "      <th>review_cleaned</th>\n",
       "    </tr>\n",
       "  </thead>\n",
       "  <tbody>\n",
       "    <tr>\n",
       "      <th>229523</th>\n",
       "      <td>None</td>\n",
       "      <td></td>\n",
       "    </tr>\n",
       "    <tr>\n",
       "      <th>8467473</th>\n",
       "      <td>None</td>\n",
       "      <td></td>\n",
       "    </tr>\n",
       "    <tr>\n",
       "      <th>7979146</th>\n",
       "      <td>YUM!!!! Definitely beat the twice-as-expensive...</td>\n",
       "      <td>YUM!!!! Definitely beat the twice-as-expensive...</td>\n",
       "    </tr>\n",
       "    <tr>\n",
       "      <th>7747805</th>\n",
       "      <td>Room was not cleaned very well. Found skittles...</td>\n",
       "      <td>Room was not cleaned very well. Found skittles...</td>\n",
       "    </tr>\n",
       "    <tr>\n",
       "      <th>7027868</th>\n",
       "      <td>None</td>\n",
       "      <td></td>\n",
       "    </tr>\n",
       "    <tr>\n",
       "      <th>7733117</th>\n",
       "      <td>(Translated by Google) The most popular steakh...</td>\n",
       "      <td>(Translated by Google) The most popular steakh...</td>\n",
       "    </tr>\n",
       "    <tr>\n",
       "      <th>4813344</th>\n",
       "      <td>None</td>\n",
       "      <td></td>\n",
       "    </tr>\n",
       "    <tr>\n",
       "      <th>4711042</th>\n",
       "      <td>Lots of history from army aviation.</td>\n",
       "      <td>Lots of history from army aviation.</td>\n",
       "    </tr>\n",
       "    <tr>\n",
       "      <th>4393377</th>\n",
       "      <td>Associate did a great job of helping me find t...</td>\n",
       "      <td>Associate did a great job of helping me find t...</td>\n",
       "    </tr>\n",
       "    <tr>\n",
       "      <th>3838819</th>\n",
       "      <td>Very clean and the service was friendly and po...</td>\n",
       "      <td>Very clean and the service was friendly and po...</td>\n",
       "    </tr>\n",
       "  </tbody>\n",
       "</table>\n",
       "</div>"
      ]
     },
     "execution_count": 58,
     "metadata": {},
     "output_type": "execute_result"
    }
   ],
   "execution_count": 58
  },
  {
   "metadata": {
    "ExecuteTime": {
     "end_time": "2025-08-30T09:35:07.101235Z",
     "start_time": "2025-08-30T09:35:06.531469Z"
    }
   },
   "cell_type": "code",
   "source": [
    "reviews_df.drop(columns=[\"review\", \"reviewer_name\", \"user_id\"], inplace=True)\n",
    "reviews_df.info()"
   ],
   "id": "57fd913de2641b65",
   "outputs": [
    {
     "name": "stdout",
     "output_type": "stream",
     "text": [
      "<class 'pandas.core.frame.DataFrame'>\n",
      "Index: 1000000 entries, 229523 to 1564777\n",
      "Data columns (total 7 columns):\n",
      " #   Column          Non-Null Count    Dtype \n",
      "---  ------          --------------    ----- \n",
      " 0   review_time     1000000 non-null  int64 \n",
      " 1   rating          1000000 non-null  int64 \n",
      " 2   gmap_id         1000000 non-null  object\n",
      " 3   uuid            1000000 non-null  object\n",
      " 4   has_image       1000000 non-null  bool  \n",
      " 5   images          1000000 non-null  object\n",
      " 6   review_cleaned  1000000 non-null  object\n",
      "dtypes: bool(1), int64(2), object(4)\n",
      "memory usage: 86.6+ MB\n"
     ]
    }
   ],
   "execution_count": 59
  },
  {
   "metadata": {
    "ExecuteTime": {
     "end_time": "2025-08-30T09:35:07.574997Z",
     "start_time": "2025-08-30T09:35:07.130172Z"
    }
   },
   "cell_type": "code",
   "source": [
    "metadata_df.drop(columns=[\"business_uuid\", \"longitude\", \"latitude\", \"business_name\"], inplace=True)\n",
    "reviews_df.info()"
   ],
   "id": "c2273d597692d20e",
   "outputs": [
    {
     "name": "stdout",
     "output_type": "stream",
     "text": [
      "<class 'pandas.core.frame.DataFrame'>\n",
      "Index: 1000000 entries, 229523 to 1564777\n",
      "Data columns (total 7 columns):\n",
      " #   Column          Non-Null Count    Dtype \n",
      "---  ------          --------------    ----- \n",
      " 0   review_time     1000000 non-null  int64 \n",
      " 1   rating          1000000 non-null  int64 \n",
      " 2   gmap_id         1000000 non-null  object\n",
      " 3   uuid            1000000 non-null  object\n",
      " 4   has_image       1000000 non-null  bool  \n",
      " 5   images          1000000 non-null  object\n",
      " 6   review_cleaned  1000000 non-null  object\n",
      "dtypes: bool(1), int64(2), object(4)\n",
      "memory usage: 86.6+ MB\n"
     ]
    }
   ],
   "execution_count": 60
  },
  {
   "metadata": {
    "ExecuteTime": {
     "end_time": "2025-08-30T09:35:08.808616Z",
     "start_time": "2025-08-30T09:35:07.606727Z"
    }
   },
   "cell_type": "code",
   "source": [
    "merged_df = pd.merge(reviews_df, metadata_df, on='gmap_id', how='left')\n",
    "merged_df.info()"
   ],
   "id": "1c1ddc88596ed8db",
   "outputs": [
    {
     "name": "stdout",
     "output_type": "stream",
     "text": [
      "<class 'pandas.core.frame.DataFrame'>\n",
      "RangeIndex: 1000000 entries, 0 to 999999\n",
      "Data columns (total 11 columns):\n",
      " #   Column                Non-Null Count    Dtype \n",
      "---  ------                --------------    ----- \n",
      " 0   review_time           1000000 non-null  int64 \n",
      " 1   rating                1000000 non-null  int64 \n",
      " 2   gmap_id               1000000 non-null  object\n",
      " 3   uuid                  1000000 non-null  object\n",
      " 4   has_image             1000000 non-null  bool  \n",
      " 5   images                1000000 non-null  object\n",
      " 6   review_cleaned        1000000 non-null  object\n",
      " 7   business_description  513735 non-null   object\n",
      " 8   category              999763 non-null   object\n",
      " 9   state                 1000000 non-null  object\n",
      " 10  country_code          1000000 non-null  object\n",
      "dtypes: bool(1), int64(2), object(8)\n",
      "memory usage: 77.2+ MB\n"
     ]
    }
   ],
   "execution_count": 61
  },
  {
   "metadata": {
    "ExecuteTime": {
     "end_time": "2025-08-30T09:49:25.088162Z",
     "start_time": "2025-08-30T09:49:24.832170Z"
    }
   },
   "cell_type": "code",
   "source": "merged_df.drop(columns=[\"gmap_id\", \"state\", \"country_code\"], inplace=True)",
   "id": "9cb5dae3ab700ca6",
   "outputs": [],
   "execution_count": 63
  },
  {
   "metadata": {
    "ExecuteTime": {
     "end_time": "2025-08-30T09:51:29.714615Z",
     "start_time": "2025-08-30T09:51:27.466842Z"
    }
   },
   "cell_type": "code",
   "source": [
    "# Convert UUID to string, for better stor\n",
    "merged_df['uuid'] = merged_df['uuid'].astype(str)\n",
    "\n",
    "merged_df.to_parquet(\"cleaned_data.parquet\", engine=\"pyarrow\", index=False)"
   ],
   "id": "136b2bdf9c8e5be3",
   "outputs": [],
   "execution_count": 66
  },
  {
   "metadata": {
    "ExecuteTime": {
     "end_time": "2025-08-30T09:52:47.239432Z",
     "start_time": "2025-08-30T09:52:47.045781Z"
    }
   },
   "cell_type": "code",
   "source": "merged_df.info()",
   "id": "629af11e2bda7dd9",
   "outputs": [
    {
     "name": "stdout",
     "output_type": "stream",
     "text": [
      "<class 'pandas.core.frame.DataFrame'>\n",
      "RangeIndex: 1000000 entries, 0 to 999999\n",
      "Data columns (total 8 columns):\n",
      " #   Column                Non-Null Count    Dtype \n",
      "---  ------                --------------    ----- \n",
      " 0   review_time           1000000 non-null  int64 \n",
      " 1   rating                1000000 non-null  int64 \n",
      " 2   uuid                  1000000 non-null  object\n",
      " 3   has_image             1000000 non-null  bool  \n",
      " 4   images                1000000 non-null  object\n",
      " 5   review_cleaned        1000000 non-null  object\n",
      " 6   business_description  513735 non-null   object\n",
      " 7   category              999763 non-null   object\n",
      "dtypes: bool(1), int64(2), object(5)\n",
      "memory usage: 54.4+ MB\n"
     ]
    }
   ],
   "execution_count": 67
  }
 ],
 "metadata": {
  "kernelspec": {
   "display_name": "Python 3",
   "language": "python",
   "name": "python3"
  },
  "language_info": {
   "codemirror_mode": {
    "name": "ipython",
    "version": 2
   },
   "file_extension": ".py",
   "mimetype": "text/x-python",
   "name": "python",
   "nbconvert_exporter": "python",
   "pygments_lexer": "ipython2",
   "version": "2.7.6"
  }
 },
 "nbformat": 4,
 "nbformat_minor": 5
}
